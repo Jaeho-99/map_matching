{
 "cells": [
  {
   "cell_type": "code",
   "execution_count": null,
   "id": "80fc7788",
   "metadata": {},
   "outputs": [],
   "source": []
  },
  {
   "cell_type": "code",
   "execution_count": 1,
   "id": "62717aac",
   "metadata": {
    "ExecuteTime": {
     "end_time": "2023-01-09T15:11:32.549309Z",
     "start_time": "2023-01-09T15:11:32.532312Z"
    }
   },
   "outputs": [],
   "source": [
    "import pickle\n",
    "import os\n",
    "import numpy as np"
   ]
  },
  {
   "cell_type": "code",
   "execution_count": 2,
   "id": "f8b33fcf",
   "metadata": {
    "ExecuteTime": {
     "end_time": "2023-01-09T15:11:33.027480Z",
     "start_time": "2023-01-09T15:11:33.014419Z"
    }
   },
   "outputs": [],
   "source": [
    "#make all_datas\n",
    "all_datas = []\n",
    "for i in [3,4,5,6,7,8]:\n",
    "    with open(f\"result\\\\result_my_{i}.pickle\",'rb') as f:\n",
    "        data = pickle.load(f)\n",
    "    all_datas.append(data)\n",
    "all_datas = np.array(all_datas)"
   ]
  },
  {
   "cell_type": "code",
   "execution_count": 3,
   "id": "47dad659",
   "metadata": {
    "ExecuteTime": {
     "end_time": "2023-01-09T15:11:33.578994Z",
     "start_time": "2023-01-09T15:11:33.563996Z"
    }
   },
   "outputs": [
    {
     "data": {
      "text/plain": [
       "103"
      ]
     },
     "execution_count": 3,
     "metadata": {},
     "output_type": "execute_result"
    }
   ],
   "source": [
    "len(all_datas[0])"
   ]
  },
  {
   "cell_type": "code",
   "execution_count": 5,
   "id": "3eb7e470",
   "metadata": {},
   "outputs": [
    {
     "data": {
      "text/plain": [
       "6"
      ]
     },
     "execution_count": 5,
     "metadata": {},
     "output_type": "execute_result"
    }
   ],
   "source": [
    "len(all_datas)"
   ]
  },
  {
   "cell_type": "code",
   "execution_count": 70,
   "id": "ae8f5852",
   "metadata": {},
   "outputs": [
    {
     "data": {
      "text/plain": [
       "array([[5.99403044e-03, 5.99403044e-03, 5.99403044e-03, 5.99403044e-03,\n",
       "        1.52925507e-02],\n",
       "       [7.76919417e-03, 7.76919417e-03, 7.76919417e-03, 3.77618978e-02,\n",
       "        4.98450704e-02],\n",
       "       [2.89061421e-01, 2.89061421e-01, 2.89061421e-01, 2.89061421e-01,\n",
       "        3.09598783e-01],\n",
       "       [4.05498191e-02, 4.05498191e-02, 4.05498191e-02, 4.05498191e-02,\n",
       "        4.05498191e-02],\n",
       "       [3.04682339e-03, 3.04682339e-03, 1.72699341e-02, 3.43154854e-02,\n",
       "        1.00927075e-01],\n",
       "       [1.34993643e-03, 1.34993643e-03, 1.34993643e-03, 1.34993643e-03,\n",
       "        1.34993643e-03],\n",
       "       [4.00895449e-02, 3.59919413e-02, 5.02737336e-02, 4.66594957e-02,\n",
       "        1.82882273e-01],\n",
       "       [5.86752089e-03, 5.86752089e-03, 5.86752089e-03, 5.86752089e-03,\n",
       "        5.86752089e-03],\n",
       "       [3.79369412e-01, 4.59089605e-01, 4.27078976e-01, 5.17062381e-01,\n",
       "        6.76360390e-01],\n",
       "       [4.32166600e-02, 1.07876289e-02, 4.32166600e-02, 1.71293430e-02,\n",
       "        2.48705805e-01],\n",
       "       [3.76972674e-02, 3.76972674e-02, 3.76972674e-02, 1.07879922e-01,\n",
       "        2.48772088e-01],\n",
       "       [3.02784747e-03, 3.02784747e-03, 9.86994228e-03, 1.97210040e+00,\n",
       "        1.95927276e+00],\n",
       "       [0.00000000e+00, 0.00000000e+00, 0.00000000e+00, 0.00000000e+00,\n",
       "        0.00000000e+00],\n",
       "       [0.00000000e+00, 0.00000000e+00, 0.00000000e+00, 5.94204661e-03,\n",
       "        6.83997841e-03],\n",
       "       [1.06759407e-01, 6.05548421e-02, 1.06759407e-01, 3.68620946e-01,\n",
       "        3.68620946e-01],\n",
       "       [3.94047692e-02, 3.94047692e-02, 3.94047692e-02, 3.94047692e-02,\n",
       "        3.94047692e-02],\n",
       "       [1.55169374e-02, 4.62351537e-03, 1.55169374e-02, 7.89764226e-02,\n",
       "        1.49622801e-01],\n",
       "       [4.72938518e-02, 4.72938518e-02, 6.55443971e-02, 6.95673542e-02,\n",
       "        1.86772701e-01],\n",
       "       [6.82649661e-02, 6.82649661e-02, 6.82649661e-02, 6.82649661e-02,\n",
       "        4.64342598e-01],\n",
       "       [3.60289701e-02, 1.35191193e-01, 3.60289701e-02, 1.32831751e-01,\n",
       "        1.36686533e-01],\n",
       "       [1.78100515e-02, 1.78100515e-02, 1.53790675e-02, 3.53786064e-02,\n",
       "        4.67930366e-02],\n",
       "       [3.07083970e-03, 3.07083970e-03, 3.07083970e-03, 3.07083970e-03,\n",
       "        3.07083970e-03],\n",
       "       [4.52092790e-02, 2.97645753e-02, 1.21186253e-01, 4.56673503e-01,\n",
       "        4.73311627e-01],\n",
       "       [2.52663807e-03, 9.49534971e-03, 9.49534971e-03, 2.38625644e-01,\n",
       "        2.38625644e-01],\n",
       "       [2.97682970e-03, 2.16232419e-02, 2.97682970e-03, 5.61010003e-02,\n",
       "        5.61010003e-02],\n",
       "       [7.20814711e-02, 7.40456541e-02, 7.40456541e-02, 7.40456541e-02,\n",
       "        7.20814711e-02],\n",
       "       [9.12380179e-02, 9.12380179e-02, 9.68109630e-02, 4.27214423e-01,\n",
       "        1.03084642e+00],\n",
       "       [1.64261180e-02, 1.64261180e-02, 1.64261180e-02, 3.84695488e-03,\n",
       "        2.31054452e-02],\n",
       "       [1.05439029e-02, 1.05439029e-02, 2.63337428e-02, 4.03716655e-02,\n",
       "        1.42130922e-01],\n",
       "       [7.08149664e-02, 4.49714010e-02, 4.23340872e-02, 4.49714010e-02,\n",
       "        8.46301241e-02],\n",
       "       [3.87481609e-02, 3.87481609e-02, 3.61880713e-02, 9.03925214e-02,\n",
       "        9.29526110e-02],\n",
       "       [2.64568274e-03, 2.64568274e-03, 2.64568274e-03, 2.64568274e-03,\n",
       "        1.16613984e-02],\n",
       "       [1.91911279e-02, 1.91911279e-02, 3.90737184e-02, 3.22894940e-02,\n",
       "        3.55049408e-02],\n",
       "       [5.59540949e-02, 1.70655356e-01, 1.64895909e-01, 2.18682654e-01,\n",
       "        4.08926735e-01],\n",
       "       [2.31718054e-02, 2.24267081e-02, 2.24267081e-02, 5.80618430e-02,\n",
       "        1.13377072e-01],\n",
       "       [3.30773979e-02, 1.15556108e-01, 1.15556108e-01, 1.75979832e-01,\n",
       "        4.37945461e-01],\n",
       "       [2.09437480e-03, 2.09437480e-03, 2.09437480e-03, 2.09437480e-03,\n",
       "        1.95288994e-01],\n",
       "       [7.37607619e-03, 1.34174606e-02, 7.37607619e-03, 7.37607619e-03,\n",
       "        7.18945511e-01],\n",
       "       [4.16125048e-03, 4.16125048e-03, 4.16125048e-03, 4.16125048e-03,\n",
       "        1.03482138e-01],\n",
       "       [6.35471843e-02, 6.35471843e-02, 1.24544162e-01, 1.37547416e-01,\n",
       "        2.95675161e-01],\n",
       "       [1.98155932e-02, 1.62548828e-02, 2.45457596e-02, 5.56272818e-02,\n",
       "        5.56272818e-02],\n",
       "       [5.59878479e-02, 5.59878479e-02, 5.59878479e-02, 5.59878479e-02,\n",
       "        3.55931976e-01],\n",
       "       [1.76953688e-02, 1.76953688e-02, 1.09643686e-02, 3.17191448e-02,\n",
       "        3.17191448e-02],\n",
       "       [3.88343509e-01, 3.88519819e-01, 3.92568207e-01, 6.56059523e-02,\n",
       "        6.56059523e-02],\n",
       "       [1.81572002e-02, 1.21590703e-02, 1.21590703e-02, 1.21590703e-02,\n",
       "        1.21590703e-02],\n",
       "       [4.39850692e-02, 4.23817942e-02, 4.13887171e-02, 7.11817609e-02,\n",
       "        7.11817609e-02],\n",
       "       [9.65909983e-03, 1.35100517e-01, 1.35100517e-01, 1.35100517e-01,\n",
       "        1.35100517e-01],\n",
       "       [1.32593427e-02, 6.62154589e-02, 6.91952604e-02, 1.89361092e-01,\n",
       "        2.44291879e-01],\n",
       "       [0.00000000e+00, 0.00000000e+00, 1.51727661e-01, 2.98491999e-01,\n",
       "        5.00420404e-01],\n",
       "       [9.70157413e-04, 9.70157413e-04, 6.93968132e-03, 9.70157413e-04,\n",
       "        6.93968132e-03],\n",
       "       [0.00000000e+00, 0.00000000e+00, 7.60031297e-03, 7.60031297e-03,\n",
       "        7.60031297e-03],\n",
       "       [4.22389122e-03, 4.22389122e-03, 4.22389122e-03, 4.22389122e-03,\n",
       "        1.36794931e-02],\n",
       "       [3.13867445e-03, 3.13867445e-03, 3.13867445e-03, 3.13867445e-03,\n",
       "        3.13867445e-03],\n",
       "       [4.96169448e-02, 4.96169448e-02, 1.25662991e-01, 2.54285196e-01,\n",
       "        2.54285196e-01],\n",
       "       [3.44025593e-02, 3.14078122e-02, 4.10860055e-02, 4.06582258e-02,\n",
       "        1.14609579e-01],\n",
       "       [6.42861606e-04, 2.42054312e-03, 1.46265415e-03, 2.15366001e-03,\n",
       "        2.65654725e-03],\n",
       "       [1.86927915e+00, 1.86927915e+00, 1.76449258e+00, 1.76324469e+00,\n",
       "        1.66176569e+00],\n",
       "       [3.60894080e-02, 3.60894080e-02, 6.54857254e-02, 1.59085873e-01,\n",
       "        6.87476415e-02],\n",
       "       [5.66463992e-02, 5.66463992e-02, 5.66463992e-02, 2.52228593e-01,\n",
       "        8.11386960e-01],\n",
       "       [1.24897401e-03, 1.24897401e-03, 1.24897401e-03, 1.24897401e-03,\n",
       "        1.22988526e-01],\n",
       "       [1.26063966e-03, 1.26063966e-03, 4.20566612e-02, 4.20566612e-02,\n",
       "        2.56327659e-01],\n",
       "       [7.96004822e-02, 8.35996050e-02, 2.26181244e-01, 3.06458214e-01,\n",
       "        7.07424157e-01],\n",
       "       [8.46619005e-04, 8.46619005e-04, 5.05377217e-02, 5.83880716e-02,\n",
       "        1.45345626e-01],\n",
       "       [4.71865984e-02, 4.71865984e-02, 4.71865984e-02, 4.71865984e-02,\n",
       "        1.33974903e-01],\n",
       "       [0.00000000e+00, 0.00000000e+00, 0.00000000e+00, 0.00000000e+00,\n",
       "        0.00000000e+00],\n",
       "       [1.51411981e-01, 1.70357398e-01, 1.74227003e-01, 1.30868766e-01,\n",
       "        1.30868766e-01],\n",
       "       [4.05850549e-02, 4.05850549e-02, 4.12295398e-02, 3.80475045e-02,\n",
       "        3.86919894e-02],\n",
       "       [9.19084001e-02, 6.37354057e-02, 9.19084001e-02, 9.19084001e-02,\n",
       "        9.19084001e-02],\n",
       "       [5.95458967e-02, 5.95458967e-02, 5.95458967e-02, 5.95458967e-02,\n",
       "        1.09301508e-01],\n",
       "       [1.31612649e-01, 1.64833294e-01, 1.55934836e-01, 1.75205980e-01,\n",
       "        2.68837305e-01],\n",
       "       [2.32477121e-02, 2.32477121e-02, 9.29586740e-02, 8.91438418e-02,\n",
       "        8.53806175e-02],\n",
       "       [2.08159120e-02, 3.65670566e-02, 5.32988490e-03, 3.65670566e-02,\n",
       "        3.53626146e-01],\n",
       "       [0.00000000e+00, 0.00000000e+00, 0.00000000e+00, 1.73117518e-01,\n",
       "        9.34562789e-01],\n",
       "       [6.09243336e-02, 9.38646395e-02, 9.70799172e-02, 9.70799172e-02,\n",
       "        9.70799172e-02],\n",
       "       [3.10120689e-02, 5.90195672e-02, 5.90195672e-02, 1.29445341e-01,\n",
       "        9.84332716e-02],\n",
       "       [1.77292559e+00, 1.72986983e+00, 1.69487783e+00, 1.62862490e+00,\n",
       "        1.51025458e+00],\n",
       "       [3.47380588e-02, 3.47380588e-02, 3.47380588e-02, 3.47380588e-02,\n",
       "        1.54985524e-01],\n",
       "       [2.29909876e-01, 1.62828608e-01, 2.76247601e-01, 2.14144392e-01,\n",
       "        2.14144392e-01],\n",
       "       [2.08915457e-02, 2.08915457e-02, 8.88145027e-02, 6.92673902e-02,\n",
       "        1.24663748e-01],\n",
       "       [4.84452653e-02, 4.84452653e-02, 4.84452653e-02, 4.84452653e-02,\n",
       "        4.84452653e-02],\n",
       "       [1.17455846e-01, 1.58161171e-01, 1.17455846e-01, 2.73004117e-01,\n",
       "        6.41052152e-01],\n",
       "       [1.88938284e-03, 1.88938284e-03, 1.88938284e-03, 1.88938284e-03,\n",
       "        3.36191916e-02],\n",
       "       [3.17342210e-02, 1.41839948e-02, 2.13093218e-02, 4.31181546e-02,\n",
       "        4.31181546e-02],\n",
       "       [1.08206039e-02, 1.08206039e-02, 1.08206039e-02, 1.08206039e-02,\n",
       "        2.26508665e-01],\n",
       "       [4.54779775e-02, 4.54779775e-02, 4.54779775e-02, 4.27908036e-02,\n",
       "        4.27908036e-02],\n",
       "       [1.53975720e-02, 4.82934998e-02, 4.82934998e-02, 1.66585609e-01,\n",
       "        5.34356387e-01],\n",
       "       [3.74607043e-03, 3.74607043e-03, 3.96370959e-03, 3.96370959e-03,\n",
       "        2.68201245e-02],\n",
       "       [8.18150264e-03, 3.58056743e-04, 3.58056743e-04, 8.18150264e-03,\n",
       "        5.51016029e-03],\n",
       "       [6.52657484e-03, 1.01425953e-02, 1.01425953e-02, 3.49478180e-01,\n",
       "        5.35396701e-01],\n",
       "       [5.67275127e-02, 5.67275127e-02, 2.61486352e-01, 3.96679387e-01,\n",
       "        5.60975452e-01],\n",
       "       [1.07707216e-01, 1.21661823e-01, 2.33675121e-01, 2.96409825e-01,\n",
       "        2.93204095e-01],\n",
       "       [1.20238579e-01, 3.44362150e-02, 3.44362150e-02, 2.38764706e-01,\n",
       "        1.53584979e-01],\n",
       "       [1.08354685e-01, 1.08697983e-01, 1.16250226e-01, 1.17003132e-01,\n",
       "        1.56929816e-01],\n",
       "       [5.93397286e-02, 1.14886181e-01, 1.14886181e-01, 1.14886181e-01,\n",
       "        2.73524864e-01],\n",
       "       [4.97565284e-03, 3.07108578e-02, 7.06136342e-02, 6.54206198e-02,\n",
       "        7.82629969e-02],\n",
       "       [3.50028439e-01, 3.51001276e-01, 3.38021897e-01, 3.70208701e-01,\n",
       "        4.36646888e-01],\n",
       "       [4.75600535e-03, 4.75600535e-03, 5.47054518e-03, 9.92467489e-03,\n",
       "        9.92467489e-03],\n",
       "       [3.95604504e-03, 3.95604504e-03, 9.35385069e-03, 4.74849247e-02,\n",
       "        4.43579957e-02],\n",
       "       [3.62454677e-03, 3.62454677e-03, 3.89086424e-02, 3.89086424e-02,\n",
       "        1.35872818e-01],\n",
       "       [2.28544672e-02, 2.28544672e-02, 8.10003781e-02, 7.74148895e-02,\n",
       "        2.09499132e-01],\n",
       "       [0.00000000e+00, 0.00000000e+00, 0.00000000e+00, 0.00000000e+00,\n",
       "        0.00000000e+00],\n",
       "       [0.00000000e+00, 0.00000000e+00, 0.00000000e+00, 0.00000000e+00,\n",
       "        0.00000000e+00],\n",
       "       [0.00000000e+00, 0.00000000e+00, 0.00000000e+00, 0.00000000e+00,\n",
       "        0.00000000e+00]])"
      ]
     },
     "execution_count": 70,
     "metadata": {},
     "output_type": "execute_result"
    }
   ],
   "source": [
    "all_datas[0]"
   ]
  },
  {
   "cell_type": "code",
   "execution_count": 71,
   "id": "f789df10",
   "metadata": {
    "ExecuteTime": {
     "end_time": "2023-01-09T15:11:33.993745Z",
     "start_time": "2023-01-09T15:11:33.985568Z"
    }
   },
   "outputs": [],
   "source": [
    "# with open(f\"..\\\\result\\\\result_my_15_{3}.pickle\",'rb') as f:\n",
    "#     data = pickle.load(f)\n",
    "# print(np.array(data))"
   ]
  },
  {
   "cell_type": "code",
   "execution_count": 72,
   "id": "044e1ea8",
   "metadata": {
    "ExecuteTime": {
     "end_time": "2023-01-09T15:11:34.345543Z",
     "start_time": "2023-01-09T15:11:34.336542Z"
    }
   },
   "outputs": [
    {
     "data": {
      "text/plain": [
       "6"
      ]
     },
     "execution_count": 72,
     "metadata": {},
     "output_type": "execute_result"
    }
   ],
   "source": [
    "#all_datas\n",
    "len(all_datas)\n",
    "#10, 20, 30, 60, 120\n",
    "# 1, "
   ]
  },
  {
   "cell_type": "code",
   "execution_count": null,
   "id": "44829099",
   "metadata": {},
   "outputs": [],
   "source": []
  },
  {
   "cell_type": "code",
   "execution_count": 73,
   "id": "8d930cc6",
   "metadata": {
    "ExecuteTime": {
     "end_time": "2023-01-09T15:59:47.304034Z",
     "start_time": "2023-01-09T15:59:47.290040Z"
    }
   },
   "outputs": [
    {
     "data": {
      "text/plain": [
       "46"
      ]
     },
     "execution_count": 73,
     "metadata": {},
     "output_type": "execute_result"
    }
   ],
   "source": [
    "#이상하게 크게 rmf가 나오는 TR? \n",
    "#61\n",
    "np.argmax(org_data[:,2])"
   ]
  },
  {
   "cell_type": "code",
   "execution_count": 74,
   "id": "1a4717b4",
   "metadata": {
    "ExecuteTime": {
     "end_time": "2023-01-09T15:11:34.574669Z",
     "start_time": "2023-01-09T15:11:34.571695Z"
    }
   },
   "outputs": [],
   "source": [
    "# all_datas : \n",
    "# 3,4,5,6,7,8 에서"
   ]
  },
  {
   "cell_type": "code",
   "execution_count": 75,
   "id": "0d38c59e",
   "metadata": {
    "ExecuteTime": {
     "end_time": "2023-01-09T15:11:35.395112Z",
     "start_time": "2023-01-09T15:11:34.935883Z"
    }
   },
   "outputs": [],
   "source": [
    "\n",
    "#visual\n",
    "import matplotlib as mpl\n",
    "import matplotlib.pyplot as plt\n",
    "import numpy as np\n",
    "\n"
   ]
  },
  {
   "cell_type": "code",
   "execution_count": 76,
   "id": "0c28e854",
   "metadata": {
    "ExecuteTime": {
     "end_time": "2023-01-09T15:11:35.441104Z",
     "start_time": "2023-01-09T15:11:35.428104Z"
    }
   },
   "outputs": [],
   "source": [
    "# sampling interval\n",
    "#all_datas : w [3,4,5,6,7,8] 에 따른 각 데이터셋의 값.\n",
    "#all_datas[0]\n",
    "#change_ts[1] : w 3,4,5,6,7,8에 따른 1번째(20ts간격) 평균값.\n",
    "#change_ts[1][1] 1번째(20ts간격) w 3일때 전체데이터평균값.\n",
    "change_ts = [[] for i in range(len([10,20,30,60,120]))]\n",
    "\n",
    "for ts in range(len(change_ts)):\n",
    "    for w in range(len(all_datas)):\n",
    "        change_ts[ts].append( all_datas[w][:,ts].sum()/100 )"
   ]
  },
  {
   "cell_type": "code",
   "execution_count": 83,
   "id": "4f7adc91",
   "metadata": {
    "ExecuteTime": {
     "end_time": "2023-01-09T15:11:45.966743Z",
     "start_time": "2023-01-09T15:11:45.954531Z"
    }
   },
   "outputs": [
    {
     "data": {
      "text/plain": [
       "matplotlib.axes._subplots.AxesSubplot"
      ]
     },
     "execution_count": 83,
     "metadata": {},
     "output_type": "execute_result"
    }
   ],
   "source": [
    "axs[0,0]"
   ]
  },
  {
   "cell_type": "code",
   "execution_count": 85,
   "id": "0631013b",
   "metadata": {
    "ExecuteTime": {
     "end_time": "2023-01-09T15:11:46.784966Z",
     "start_time": "2023-01-09T15:11:46.410725Z"
    }
   },
   "outputs": [
    {
     "ename": "AttributeError",
     "evalue": "'numpy.ndarray' object has no attribute 'plot'",
     "output_type": "error",
     "traceback": [
      "\u001b[1;31m---------------------------------------------------------------------------\u001b[0m",
      "\u001b[1;31mAttributeError\u001b[0m                            Traceback (most recent call last)",
      "\u001b[1;32m~\\AppData\\Local\\Temp\\1/ipykernel_17176/3546026165.py\u001b[0m in \u001b[0;36m<module>\u001b[1;34m\u001b[0m\n\u001b[0;32m      8\u001b[0m \u001b[0maxs\u001b[0m\u001b[1;33m[\u001b[0m\u001b[1;36m1\u001b[0m\u001b[1;33m,\u001b[0m\u001b[1;36m0\u001b[0m\u001b[1;33m]\u001b[0m\u001b[1;33m.\u001b[0m\u001b[0mplot\u001b[0m\u001b[1;33m(\u001b[0m\u001b[0mx\u001b[0m\u001b[1;33m,\u001b[0m\u001b[0mchange_ts\u001b[0m\u001b[1;33m[\u001b[0m\u001b[1;36m2\u001b[0m\u001b[1;33m]\u001b[0m\u001b[1;33m)\u001b[0m\u001b[1;33m\u001b[0m\u001b[1;33m\u001b[0m\u001b[0m\n\u001b[0;32m      9\u001b[0m \u001b[0maxs\u001b[0m\u001b[1;33m[\u001b[0m\u001b[1;36m1\u001b[0m\u001b[1;33m,\u001b[0m\u001b[1;36m1\u001b[0m\u001b[1;33m]\u001b[0m\u001b[1;33m.\u001b[0m\u001b[0mplot\u001b[0m\u001b[1;33m(\u001b[0m\u001b[0mx\u001b[0m\u001b[1;33m,\u001b[0m\u001b[0mchange_ts\u001b[0m\u001b[1;33m[\u001b[0m\u001b[1;36m3\u001b[0m\u001b[1;33m]\u001b[0m\u001b[1;33m)\u001b[0m\u001b[1;33m\u001b[0m\u001b[1;33m\u001b[0m\u001b[0m\n\u001b[1;32m---> 10\u001b[1;33m \u001b[0maxs\u001b[0m\u001b[1;33m[\u001b[0m\u001b[1;36m2\u001b[0m\u001b[1;33m,\u001b[0m\u001b[1;33m:\u001b[0m\u001b[1;33m]\u001b[0m\u001b[1;33m.\u001b[0m\u001b[0mplot\u001b[0m\u001b[1;33m(\u001b[0m\u001b[0mx\u001b[0m\u001b[1;33m,\u001b[0m\u001b[0mchange_ts\u001b[0m\u001b[1;33m[\u001b[0m\u001b[1;36m4\u001b[0m\u001b[1;33m]\u001b[0m\u001b[1;33m)\u001b[0m\u001b[1;33m\u001b[0m\u001b[1;33m\u001b[0m\u001b[0m\n\u001b[0m",
      "\u001b[1;31mAttributeError\u001b[0m: 'numpy.ndarray' object has no attribute 'plot'"
     ]
    },
    {
     "data": {
      "image/png": "[encoded data removed]",
      "text/plain": [
       "<Figure size 432x288 with 6 Axes>"
      ]
     },
     "metadata": {
      "needs_background": "light"
     },
     "output_type": "display_data"
    }
   ],
   "source": [
    "\n",
    "# change_ts그리기변화\n",
    "\n",
    "fig,axs = plt.subplots(3,2)\n",
    "\n",
    "x = [3,4,5,6,7,8]\n",
    "axs[0,0].plot(x,change_ts[0])\n",
    "axs[0,1].plot(x,change_ts[1])\n",
    "axs[1,0].plot(x,change_ts[2])\n",
    "axs[1,1].plot(x,change_ts[3])\n",
    "axs[2,:].plot(x,change_ts[4])"
   ]
  },
  {
   "cell_type": "code",
   "execution_count": 86,
   "id": "6e78db4c",
   "metadata": {
    "ExecuteTime": {
     "end_time": "2023-01-09T15:11:43.307724Z",
     "start_time": "2023-01-09T15:11:43.297773Z"
    }
   },
   "outputs": [],
   "source": [
    "import matplotlib.pyplot as plt\n",
    "import numpy as np\n",
    "import matplotlib.gridspec as gridspec\n"
   ]
  },
  {
   "cell_type": "code",
   "execution_count": null,
   "id": "5b8d95d8",
   "metadata": {},
   "outputs": [],
   "source": []
  },
  {
   "cell_type": "code",
   "execution_count": 87,
   "id": "f73e60d5",
   "metadata": {
    "ExecuteTime": {
     "end_time": "2023-01-09T15:11:49.881652Z",
     "start_time": "2023-01-09T15:11:49.332777Z"
    }
   },
   "outputs": [
    {
     "name": "stderr",
     "output_type": "stream",
     "text": [
      "C:\\Users\\PEM-RA\\AppData\\Local\\Temp\\1/ipykernel_17176/4263597775.py:15: UserWarning: FixedFormatter should only be used together with FixedLocator\n",
      "  ax.set_xticklabels([3,3,4,5,6,7,8])\n",
      "C:\\Users\\PEM-RA\\AppData\\Local\\Temp\\1/ipykernel_17176/4263597775.py:23: UserWarning: FixedFormatter should only be used together with FixedLocator\n",
      "  ax.set_xticklabels([3,3,4,5,6,7,8])\n",
      "C:\\Users\\PEM-RA\\AppData\\Local\\Temp\\1/ipykernel_17176/4263597775.py:31: UserWarning: FixedFormatter should only be used together with FixedLocator\n",
      "  ax.set_xticklabels([3,3,4,5,6,7,8])\n",
      "C:\\Users\\PEM-RA\\AppData\\Local\\Temp\\1/ipykernel_17176/4263597775.py:39: UserWarning: FixedFormatter should only be used together with FixedLocator\n",
      "  ax.set_xticklabels([3,3,4,5,6,7,8])\n",
      "C:\\Users\\PEM-RA\\AppData\\Local\\Temp\\1/ipykernel_17176/4263597775.py:47: UserWarning: FixedFormatter should only be used together with FixedLocator\n",
      "  ax.set_xticklabels([3,3,4,5,6,7,8])\n"
     ]
    },
    {
     "data": {
      "text/plain": [
       "[Text(-1.0, 0, '3'),\n",
       " Text(0.0, 0, '3'),\n",
       " Text(1.0, 0, '4'),\n",
       " Text(2.0, 0, '5'),\n",
       " Text(3.0, 0, '6'),\n",
       " Text(4.0, 0, '7'),\n",
       " Text(5.0, 0, '8'),\n",
       " Text(6.0, 0, '')]"
      ]
     },
     "execution_count": 87,
     "metadata": {},
     "output_type": "execute_result"
    },
    {
     "data": {
      "image/png": "[encoded data removed]",
      "text/plain": [
       "<Figure size 720x576 with 5 Axes>"
      ]
     },
     "metadata": {},
     "output_type": "display_data"
    }
   ],
   "source": [
    "# doublas-peucker적용안했을때보다 더 원만한그래프를보임. good\n",
    "fig = plt.figure(tight_layout= True,facecolor='white')\n",
    "fig.set_figheight(8)\n",
    "fig.set_figwidth(10)\n",
    "plt.rc('font',size=13)\n",
    "gs = gridspec.GridSpec(3,2)\n",
    "\n",
    "ax = fig.add_subplot(gs[0,0])\n",
    "ax.plot(change_ts[0],color='red',linewidth = 3,marker='o',markersize=7,label=\"Sampling interval : 10\")\n",
    "ax.legend()\n",
    "ax.set_ylabel('RMF')\n",
    "ax.set_xlabel('W')\n",
    "# ax.set_xticks()\n",
    "ax.set_yticks([0, 0.05, 0.1,0.15,0.2,0.25])\n",
    "ax.set_xticklabels([3,3,4,5,6,7,8])\n",
    "\n",
    "ax = fig.add_subplot(gs[0,1])\n",
    "ax.plot(change_ts[1],color='red',linewidth = 3,marker='o',markersize=7,label=\"Sampling interval : 20\")\n",
    "ax.legend()\n",
    "ax.set_ylabel('RMF')\n",
    "ax.set_xlabel('W')\n",
    "ax.set_yticks([0, 0.05, 0.1,0.15,0.2,0.25])\n",
    "ax.set_xticklabels([3,3,4,5,6,7,8])\n",
    "\n",
    "ax = fig.add_subplot(gs[1,0])\n",
    "ax.plot(change_ts[2],color='red',linewidth = 3,marker='o',markersize=7,label=\"Sampling interval : 30\")\n",
    "ax.legend()\n",
    "ax.set_ylabel('RMF')\n",
    "ax.set_xlabel('W')\n",
    "ax.set_yticks([0, 0.05, 0.1,0.15,0.2,0.25])\n",
    "ax.set_xticklabels([3,3,4,5,6,7,8])\n",
    "\n",
    "ax = fig.add_subplot(gs[1,1])\n",
    "ax.plot(change_ts[3],color='red',linewidth = 3,marker='o',markersize=7,label=\"Sampling interval : 60\")\n",
    "ax.legend()\n",
    "ax.set_ylabel('RMF')\n",
    "ax.set_xlabel('W')\n",
    "ax.set_yticks([0, 0.05, 0.1,0.15,0.2,0.25])\n",
    "ax.set_xticklabels([3,3,4,5,6,7,8])\n",
    "\n",
    "ax = fig.add_subplot(gs[2,:])\n",
    "ax.plot(change_ts[4],color='red',linewidth = 3,marker='o',markersize=7,label=\"Sampling interval : 120\")\n",
    "ax.legend()\n",
    "ax.set_ylabel('RMF')\n",
    "ax.set_xlabel('W')\n",
    "ax.set_yticks([0, 0.05, 0.1,0.15,0.2,0.25,0.3])\n",
    "ax.set_xticklabels([3,3,4,5,6,7,8])"
   ]
  },
  {
   "cell_type": "code",
   "execution_count": 88,
   "id": "77635582",
   "metadata": {
    "ExecuteTime": {
     "end_time": "2023-01-09T15:11:55.225538Z",
     "start_time": "2023-01-09T15:11:55.042186Z"
    }
   },
   "outputs": [],
   "source": [
    "fig.savefig(\"result\\\\fig5white.png\")"
   ]
  },
  {
   "cell_type": "code",
   "execution_count": 89,
   "id": "fc65096e",
   "metadata": {
    "ExecuteTime": {
     "end_time": "2023-01-09T15:11:56.213194Z",
     "start_time": "2023-01-09T15:11:56.196164Z"
    }
   },
   "outputs": [
    {
     "data": {
      "text/plain": [
       "0"
      ]
     },
     "execution_count": 89,
     "metadata": {},
     "output_type": "execute_result"
    }
   ],
   "source": [
    "all_w= [3,4,5,6,7,8]\n",
    "samplings = [10,20,30,60,120]\n",
    "sampling_w_values = [0] * len(samplings)\n",
    "sampling_w_index = [0] * len(samplings)\n",
    "for i in range(len(samplings)):\n",
    "    sampling_w_index[i] = np.argmin(change_ts[i])\n",
    "    sampling_w_values[i] = all_w[sampling_w_index[i] ]\n",
    "np.argmin(change_ts[3])"
   ]
  },
  {
   "cell_type": "code",
   "execution_count": null,
   "id": "7632390c",
   "metadata": {
    "ExecuteTime": {
     "end_time": "2023-01-07T03:22:12.205868Z",
     "start_time": "2023-01-07T03:22:12.182768Z"
    }
   },
   "outputs": [],
   "source": []
  },
  {
   "cell_type": "code",
   "execution_count": 90,
   "id": "c6ebbe0a",
   "metadata": {
    "ExecuteTime": {
     "end_time": "2023-01-09T15:12:04.256453Z",
     "start_time": "2023-01-09T15:12:04.242311Z"
    }
   },
   "outputs": [
    {
     "data": {
      "text/plain": [
       "[3, 4, 5, 6, 7, 8]"
      ]
     },
     "execution_count": 90,
     "metadata": {},
     "output_type": "execute_result"
    }
   ],
   "source": [
    "all_w"
   ]
  },
  {
   "cell_type": "code",
   "execution_count": 91,
   "id": "2cb8fea5",
   "metadata": {
    "ExecuteTime": {
     "end_time": "2023-01-09T15:12:06.206734Z",
     "start_time": "2023-01-09T15:12:06.193553Z"
    }
   },
   "outputs": [
    {
     "data": {
      "text/plain": [
       "[0, 0, 2, 0, 3]"
      ]
     },
     "execution_count": 91,
     "metadata": {},
     "output_type": "execute_result"
    }
   ],
   "source": [
    "# 각 ts에따라 가장 값이 작게나온 window값.\n",
    "# [0,0,2,0,3] : 10은 3, 20은 3, 30은 5가 가장 작았다.\n",
    "sampling_w_index"
   ]
  },
  {
   "cell_type": "code",
   "execution_count": 92,
   "id": "246ed6d2",
   "metadata": {
    "ExecuteTime": {
     "end_time": "2023-01-09T15:12:09.174399Z",
     "start_time": "2023-01-09T15:12:09.160344Z"
    }
   },
   "outputs": [
    {
     "data": {
      "text/plain": [
       "array([5.99403044e-03, 7.76919417e-03, 2.89061421e-01, 4.05498191e-02,\n",
       "       3.04682339e-03, 1.34993643e-03, 4.00895449e-02, 5.86752089e-03,\n",
       "       3.79369412e-01, 4.32166600e-02, 3.76972674e-02, 3.02784747e-03,\n",
       "       0.00000000e+00, 0.00000000e+00, 1.06759407e-01, 3.94047692e-02,\n",
       "       1.55169374e-02, 4.72938518e-02, 6.82649661e-02, 3.60289701e-02,\n",
       "       1.78100515e-02, 3.07083970e-03, 4.52092790e-02, 2.52663807e-03,\n",
       "       2.97682970e-03, 7.20814711e-02, 9.12380179e-02, 1.64261180e-02,\n",
       "       1.05439029e-02, 7.08149664e-02, 3.87481609e-02, 2.64568274e-03,\n",
       "       1.91911279e-02, 5.59540949e-02, 2.31718054e-02, 3.30773979e-02,\n",
       "       2.09437480e-03, 7.37607619e-03, 4.16125048e-03, 6.35471843e-02,\n",
       "       1.98155932e-02, 5.59878479e-02, 1.76953688e-02, 3.88343509e-01,\n",
       "       1.81572002e-02, 4.39850692e-02, 9.65909983e-03, 1.32593427e-02,\n",
       "       0.00000000e+00, 9.70157413e-04, 0.00000000e+00, 4.22389122e-03,\n",
       "       3.13867445e-03, 4.96169448e-02, 3.44025593e-02, 6.42861606e-04,\n",
       "       1.86927915e+00, 3.60894080e-02, 5.66463992e-02, 1.24897401e-03,\n",
       "       1.26063966e-03, 7.96004822e-02, 8.46619005e-04, 4.71865984e-02,\n",
       "       0.00000000e+00, 1.51411981e-01, 4.05850549e-02, 9.19084001e-02,\n",
       "       5.95458967e-02, 1.31612649e-01, 2.32477121e-02, 2.08159120e-02,\n",
       "       0.00000000e+00, 6.09243336e-02, 3.10120689e-02, 1.77292559e+00,\n",
       "       3.47380588e-02, 2.29909876e-01, 2.08915457e-02, 4.84452653e-02,\n",
       "       1.17455846e-01, 1.88938284e-03, 3.17342210e-02, 1.08206039e-02,\n",
       "       4.54779775e-02, 1.53975720e-02, 3.74607043e-03, 8.18150264e-03,\n",
       "       6.52657484e-03, 5.67275127e-02, 1.07707216e-01, 1.20238579e-01,\n",
       "       1.08354685e-01, 5.93397286e-02, 4.97565284e-03, 3.50028439e-01,\n",
       "       4.75600535e-03, 3.95604504e-03, 3.62454677e-03, 2.28544672e-02,\n",
       "       0.00000000e+00, 0.00000000e+00, 0.00000000e+00])"
      ]
     },
     "execution_count": 92,
     "metadata": {},
     "output_type": "execute_result"
    }
   ],
   "source": [
    "all_datas[0][:,0]"
   ]
  },
  {
   "cell_type": "code",
   "execution_count": 93,
   "id": "7cd1b104",
   "metadata": {
    "ExecuteTime": {
     "end_time": "2023-01-09T15:12:12.748785Z",
     "start_time": "2023-01-09T15:12:12.737778Z"
    }
   },
   "outputs": [],
   "source": [
    "#change_ts에서 최소값만 뽑아내도 됐었음!!\n",
    "#best_my_result : 샘플링간격마다 w가 고정됐을떄 가장 작은값.\n",
    "#best_my_result[2] : 2번째 셈플링간격(30ts)일때 가장 작은 rmf값.\n",
    "best_my_result = [0] * len(samplings)\n",
    "for i in range(len(samplings)):\n",
    "    data = all_datas[sampling_w_index[i]] # 셈플링간격 데이터마다 w 고정(최고 성능내는걸로\n",
    "    best_my_result[i] = data[:,i].sum()/100\n",
    "    "
   ]
  },
  {
   "cell_type": "code",
   "execution_count": 94,
   "id": "fb72d182",
   "metadata": {
    "ExecuteTime": {
     "end_time": "2023-01-09T15:12:14.796638Z",
     "start_time": "2023-01-09T15:12:14.786499Z"
    }
   },
   "outputs": [
    {
     "data": {
      "text/plain": [
       "[0.08306797017098011,\n",
       " 0.08804164510731399,\n",
       " 0.09968375808690214,\n",
       " 0.1549612116911483,\n",
       " 0.2355650321258672]"
      ]
     },
     "execution_count": 94,
     "metadata": {},
     "output_type": "execute_result"
    }
   ],
   "source": [
    "best_my_result"
   ]
  },
  {
   "cell_type": "code",
   "execution_count": 95,
   "id": "8b6d1ffa",
   "metadata": {
    "ExecuteTime": {
     "end_time": "2023-01-09T15:16:03.307373Z",
     "start_time": "2023-01-09T15:16:03.293252Z"
    }
   },
   "outputs": [],
   "source": [
    "#result_org\n",
    "org_data = None\n",
    "with open(f\"result\\\\result_org_3.pickle\",'rb') as f:\n",
    "    org_data = pickle.load(f)\n",
    "org_data = np.array(org_data)"
   ]
  },
  {
   "cell_type": "code",
   "execution_count": 96,
   "id": "0d815af0",
   "metadata": {
    "ExecuteTime": {
     "end_time": "2023-01-09T15:16:05.578113Z",
     "start_time": "2023-01-09T15:16:05.559110Z"
    }
   },
   "outputs": [
    {
     "data": {
      "text/plain": [
       "array([[5.99403044e-03, 5.99403044e-03, 5.99403044e-03, 5.99403044e-03,\n",
       "        6.40547571e-02],\n",
       "       [7.76919417e-03, 7.76919417e-03, 7.76919417e-03, 3.77618978e-02,\n",
       "        3.77618978e-02],\n",
       "       [2.92105692e-01, 2.92105692e-01, 2.92105692e-01, 2.92105692e-01,\n",
       "        3.12643054e-01],\n",
       "       [7.04392715e-02, 7.04392715e-02, 7.04392715e-02, 7.04392715e-02,\n",
       "        7.04392715e-02],\n",
       "       [3.04682339e-03, 3.04682339e-03, 1.72699341e-02, 2.79694815e-02,\n",
       "        9.45810711e-02],\n",
       "       [1.34993643e-03, 1.34993643e-03, 1.34993643e-03, 1.34993643e-03,\n",
       "        1.34993643e-03],\n",
       "       [2.58077525e-02, 3.59919413e-02, 3.59919413e-02, 4.66594957e-02,\n",
       "        1.93668418e-01],\n",
       "       [5.86752089e-03, 5.86752089e-03, 5.86752089e-03, 5.86752089e-03,\n",
       "        5.86752089e-03],\n",
       "       [4.80213255e-01, 4.93065172e-01, 4.27078976e-01, 5.17062381e-01,\n",
       "        6.65445557e-01],\n",
       "       [6.80648177e-02, 5.43942779e-02, 6.80648177e-02, 4.17774003e-02,\n",
       "        2.53348492e-01],\n",
       "       [7.95991415e-02, 4.92259272e-02, 7.95991415e-02, 1.07879922e-01,\n",
       "        2.49911951e-01],\n",
       "       [3.02784747e-03, 3.02784747e-03, 9.86994228e-03, 1.97210040e+00,\n",
       "        3.90071620e-02],\n",
       "       [0.00000000e+00, 0.00000000e+00, 0.00000000e+00, 0.00000000e+00,\n",
       "        0.00000000e+00],\n",
       "       [0.00000000e+00, 0.00000000e+00, 0.00000000e+00, 3.69947630e-03,\n",
       "        1.67410347e-02],\n",
       "       [1.06759407e-01, 7.91222445e-02, 1.06759407e-01, 3.56709285e-01,\n",
       "        3.56709285e-01],\n",
       "       [6.07084759e-02, 6.07084759e-02, 4.12210206e-02, 4.12210206e-02,\n",
       "        6.01007265e-02],\n",
       "       [2.29771804e-02, 2.29771804e-02, 2.29771804e-02, 9.14680941e-02,\n",
       "        1.49622801e-01],\n",
       "       [4.18818658e-02, 4.72938518e-02, 6.55443971e-02, 6.95673542e-02,\n",
       "        1.91852523e-01],\n",
       "       [9.48646535e-02, 9.48646535e-02, 7.52341964e-02, 7.75699436e-02,\n",
       "        4.73647575e-01],\n",
       "       [3.60289701e-02, 1.32831751e-01, 3.60289701e-02, 1.32831751e-01,\n",
       "        1.36753165e-01],\n",
       "       [1.78100515e-02, 1.78100515e-02, 1.53790675e-02, 4.89350007e-02,\n",
       "        6.03494310e-02],\n",
       "       [3.07083970e-03, 3.07083970e-03, 3.07083970e-03, 3.07083970e-03,\n",
       "        2.43941272e-02],\n",
       "       [4.68498246e-02, 3.82462512e-02, 1.22826799e-01, 4.45517579e-01,\n",
       "        4.05026960e-01],\n",
       "       [3.51473444e-02, 3.33600990e-02, 3.33600990e-02, 2.62490393e-01,\n",
       "        2.62490393e-01],\n",
       "       [2.97682970e-03, 3.80827470e-02, 2.97682970e-03, 5.61010003e-02,\n",
       "        5.61010003e-02],\n",
       "       [7.85959862e-02, 7.40456541e-02, 7.40456541e-02, 7.40456541e-02,\n",
       "        7.72446403e-02],\n",
       "       [1.10050084e-01, 1.10050084e-01, 9.68109630e-02, 4.27214423e-01,\n",
       "        1.03084642e+00],\n",
       "       [1.64261180e-02, 1.64261180e-02, 1.64261180e-02, 6.32881832e-02,\n",
       "        8.25466735e-02],\n",
       "       [1.26356546e-02, 1.26356546e-02, 2.84254945e-02, 4.24634173e-02,\n",
       "        1.44222674e-01],\n",
       "       [5.63824776e-02, 4.75085231e-02, 4.75085231e-02, 4.75085231e-02,\n",
       "        8.46301241e-02],\n",
       "       [1.50654748e-02, 1.50654748e-02, 3.70871587e-02, 8.78324318e-02,\n",
       "        9.12916088e-02],\n",
       "       [8.66066246e-03, 8.51838456e-03, 8.66066246e-03, 1.08942129e-02,\n",
       "        1.08942129e-02],\n",
       "       [2.37805556e-02, 2.37805556e-02, 4.27693432e-02, 3.73100331e-02,\n",
       "        3.55049408e-02],\n",
       "       [5.59540949e-02, 1.70655356e-01, 1.64895909e-01, 2.18682654e-01,\n",
       "        4.08926735e-01],\n",
       "       [3.05486632e-02, 2.98035659e-02, 2.98035659e-02, 2.98035659e-02,\n",
       "        1.03941680e-01],\n",
       "       [3.54186343e-02, 1.17897344e-01, 1.17897344e-01, 1.78321068e-01,\n",
       "        4.46737306e-01],\n",
       "       [2.09437480e-03, 2.09437480e-03, 2.09437480e-03, 2.09437480e-03,\n",
       "        1.95288994e-01],\n",
       "       [5.34247359e-03, 1.91462111e-02, 5.34247359e-03, 5.34247359e-03,\n",
       "        7.18945511e-01],\n",
       "       [9.82655803e-03, 9.82655803e-03, 2.88420433e-02, 3.12628026e-02,\n",
       "        1.03482138e-01],\n",
       "       [6.35471843e-02, 7.18299890e-02, 1.24544162e-01, 1.37547416e-01,\n",
       "        3.21614421e-01],\n",
       "       [2.59695190e-02, 2.24088087e-02, 3.06996855e-02, 6.03973181e-02,\n",
       "        5.56272818e-02],\n",
       "       [6.20517865e-02, 6.20517865e-02, 6.20517865e-02, 6.35559727e-02,\n",
       "        3.55931976e-01],\n",
       "       [1.88554631e-02, 1.88554631e-02, 1.82299382e-02, 3.32344731e-02,\n",
       "        5.19080271e-02],\n",
       "       [3.89886248e-01, 3.88343509e-01, 3.92568207e-01, 3.81279854e-01,\n",
       "        6.56059523e-02],\n",
       "       [1.81572002e-02, 1.21590703e-02, 1.21590703e-02, 1.21590703e-02,\n",
       "        1.21590703e-02],\n",
       "       [4.39850692e-02, 8.48156278e-02, 4.39850692e-02, 6.27124186e-02,\n",
       "        6.27124186e-02],\n",
       "       [2.71621177e-02, 1.52603535e-01, 1.95710934e+00, 1.84119057e-01,\n",
       "        1.84119057e-01],\n",
       "       [1.32593427e-02, 6.62154589e-02, 6.91952604e-02, 1.94991196e-01,\n",
       "        2.49921983e-01],\n",
       "       [2.87142146e-02, 2.87142146e-02, 2.71940137e-02, 2.90898236e-01,\n",
       "        3.82808091e-01],\n",
       "       [9.70157413e-04, 9.70157413e-04, 6.93968132e-03, 9.70157413e-04,\n",
       "        6.93968132e-03],\n",
       "       [1.17289890e-02, 1.17289890e-02, 4.03627359e-02, 1.74163511e-01,\n",
       "        3.11688642e-02],\n",
       "       [2.87932916e-02, 2.87932916e-02, 4.22389122e-03, 2.88459512e-02,\n",
       "        2.88459512e-02],\n",
       "       [6.98375039e-02, 3.13867445e-03, 6.75044453e-02, 2.35785655e-01,\n",
       "        2.35785655e-01],\n",
       "       [4.96169448e-02, 4.96169448e-02, 1.52227968e-02, 8.27990477e-02,\n",
       "        8.27990477e-02],\n",
       "       [3.71203114e-02, 3.52378654e-02, 4.38037576e-02, 4.41527274e-02,\n",
       "        1.14661248e-01],\n",
       "       [1.46265415e-03, 2.97345256e-03, 1.46265415e-03, 2.26975651e-03,\n",
       "        2.97345256e-03],\n",
       "       [1.86927915e+00, 1.86927915e+00, 1.86742969e+00, 1.86699300e+00,\n",
       "        1.66274550e+00],\n",
       "       [3.60894080e-02, 3.60894080e-02, 3.60894080e-02, 1.59085873e-01,\n",
       "        6.87476415e-02],\n",
       "       [5.66463992e-02, 5.66463992e-02, 5.66463992e-02, 2.52228593e-01,\n",
       "        8.26283414e-01],\n",
       "       [1.24897401e-03, 1.24897401e-03, 1.24897401e-03, 1.28340074e-02,\n",
       "        1.34573559e-01],\n",
       "       [1.84764137e-02, 1.84764137e-02, 3.83818286e-02, 3.83818286e-02,\n",
       "        2.52652826e-01],\n",
       "       [7.65294597e-02, 8.05285825e-02, 2.22618154e-01, 1.94005938e+00,\n",
       "        1.91903475e+00],\n",
       "       [5.24922610e-03, 4.83801322e-03, 5.57974874e-02, 6.36478374e-02,\n",
       "        1.49758772e-01],\n",
       "       [3.26942154e-02, 3.26942154e-02, 3.26942154e-02, 3.26942154e-02,\n",
       "        1.24662463e-01],\n",
       "       [0.00000000e+00, 0.00000000e+00, 0.00000000e+00, 0.00000000e+00,\n",
       "        0.00000000e+00],\n",
       "       [1.62963801e-01, 1.75548275e-01, 1.90938805e-01, 1.30118689e-01,\n",
       "        1.30118689e-01],\n",
       "       [4.43080517e-02, 4.43080517e-02, 4.13794333e-02, 3.80475045e-02,\n",
       "        3.98218858e-02],\n",
       "       [5.82633420e-02, 9.76660678e-02, 5.82633420e-02, 5.82633420e-02,\n",
       "        5.82633420e-02],\n",
       "       [5.18615644e-02, 5.18615644e-02, 5.18615644e-02, 5.18615644e-02,\n",
       "        1.01617176e-01],\n",
       "       [1.41459915e-01, 1.74680560e-01, 1.65782102e-01, 1.85053246e-01,\n",
       "        1.82544365e+00],\n",
       "       [3.57611520e-02, 3.32018164e-02, 1.05472114e-01, 1.01412753e-01,\n",
       "        1.01529500e-01],\n",
       "       [7.65551436e-02, 5.89785097e-02, 6.10691165e-02, 5.89785097e-02,\n",
       "        3.83458091e-01],\n",
       "       [0.00000000e+00, 0.00000000e+00, 0.00000000e+00, 1.53616557e-01,\n",
       "        9.56212565e-01],\n",
       "       [7.52334041e-02, 1.08173710e-01, 1.11388988e-01, 1.11388988e-01,\n",
       "        1.11388988e-01],\n",
       "       [3.10120689e-02, 5.90195672e-02, 5.90195672e-02, 5.90195672e-02,\n",
       "        1.14591752e-01],\n",
       "       [1.77892749e+00, 1.73587172e+00, 1.70330942e+00, 6.24686524e-01,\n",
       "        9.34148271e-01],\n",
       "       [3.75656558e-02, 3.75656558e-02, 3.75656558e-02, 3.75656558e-02,\n",
       "        2.03501721e-01],\n",
       "       [2.19619681e-01, 1.55642398e-01, 2.65957406e-01, 2.06958181e-01,\n",
       "        2.06958181e-01],\n",
       "       [1.48769692e-02, 1.48769692e-02, 8.27999262e-02, 6.80863801e-02,\n",
       "        1.24663748e-01],\n",
       "       [1.33437644e-01, 1.33437644e-01, 4.84452653e-02, 1.33437644e-01,\n",
       "        4.10247348e-01],\n",
       "       [1.17455846e-01, 1.58161171e-01, 1.17455846e-01, 2.73004117e-01,\n",
       "        6.41052152e-01],\n",
       "       [1.25782306e-02, 1.25782306e-02, 1.25782306e-02, 1.25782306e-02,\n",
       "        3.36191916e-02],\n",
       "       [3.17342210e-02, 1.41839948e-02, 2.13093218e-02, 3.17342210e-02,\n",
       "        3.17342210e-02],\n",
       "       [1.46688973e-02, 1.88726264e-02, 1.46688973e-02, 1.97847339e-02,\n",
       "        2.35472795e-01],\n",
       "       [4.59711622e-02, 5.95681146e-02, 4.54779775e-02, 4.27908036e-02,\n",
       "        4.27908036e-02],\n",
       "       [3.52773575e-02, 6.81732853e-02, 3.28959278e-02, 2.09544162e-01,\n",
       "        5.72927458e-01],\n",
       "       [4.33037648e-03, 3.96370959e-03, 4.36518251e-03, 4.36518251e-03,\n",
       "        2.80786387e-02],\n",
       "       [5.51016029e-03, 3.58056743e-04, 3.58056743e-04, 5.51016029e-03,\n",
       "        8.18150264e-03],\n",
       "       [4.68608077e-02, 2.05010034e-02, 1.18191753e-02, 3.59836588e-01,\n",
       "        5.45738648e-01],\n",
       "       [5.67275127e-02, 5.67275127e-02, 7.28638902e-02, 4.19030042e-01,\n",
       "        5.83326107e-01],\n",
       "       [1.05467893e-01, 1.19422501e-01, 2.33675121e-01, 2.94170503e-01,\n",
       "        3.02177561e-01],\n",
       "       [5.71942525e-02, 5.71942525e-02, 5.71942525e-02, 1.76343016e-01,\n",
       "        2.10442532e-01],\n",
       "       [1.10289039e-01, 1.10632337e-01, 1.16250226e-01, 1.17003132e-01,\n",
       "        1.57682722e-01],\n",
       "       [6.18201363e-02, 1.16178079e-01, 1.17366589e-01, 1.17366589e-01,\n",
       "        2.75448725e-01],\n",
       "       [3.57095664e-02, 5.83885879e-02, 7.06136342e-02, 6.54206198e-02,\n",
       "        9.97864569e-02],\n",
       "       [1.93160970e+00, 3.57982360e-01, 3.45002981e-01, 3.77189785e-01,\n",
       "        1.80105796e+00],\n",
       "       [6.52786136e-03, 6.52786136e-03, 7.87658481e-03, 1.18658657e-02,\n",
       "        1.18658657e-02],\n",
       "       [3.95604504e-03, 3.95604504e-03, 1.10932779e-02, 5.15724013e-02,\n",
       "        5.58483739e-02],\n",
       "       [4.93024303e-03, 4.93024303e-03, 5.40486112e-02, 5.40486112e-02,\n",
       "        1.29275406e-01],\n",
       "       [2.31606717e-02, 4.59164284e-02, 8.13065826e-02, 7.77210940e-02,\n",
       "        2.09805337e-01],\n",
       "       [0.00000000e+00, 0.00000000e+00, 0.00000000e+00, 0.00000000e+00,\n",
       "        0.00000000e+00],\n",
       "       [0.00000000e+00, 0.00000000e+00, 0.00000000e+00, 0.00000000e+00,\n",
       "        0.00000000e+00],\n",
       "       [0.00000000e+00, 0.00000000e+00, 0.00000000e+00, 0.00000000e+00,\n",
       "        0.00000000e+00]])"
      ]
     },
     "execution_count": 96,
     "metadata": {},
     "output_type": "execute_result"
    }
   ],
   "source": [
    "org_data"
   ]
  },
  {
   "cell_type": "code",
   "execution_count": 97,
   "id": "c3740717",
   "metadata": {
    "ExecuteTime": {
     "end_time": "2023-01-09T15:16:08.186369Z",
     "start_time": "2023-01-09T15:16:08.168341Z"
    }
   },
   "outputs": [],
   "source": [
    "best_org_result = [0] * len(samplings)\n",
    "\n",
    "for i in range(len(samplings)):\n",
    "    best_org_result[i] = org_data[:,i].sum()/100"
   ]
  },
  {
   "cell_type": "code",
   "execution_count": 98,
   "id": "7392acde",
   "metadata": {
    "ExecuteTime": {
     "end_time": "2023-01-09T15:24:03.105462Z",
     "start_time": "2023-01-09T15:24:03.094436Z"
    }
   },
   "outputs": [
    {
     "name": "stdout",
     "output_type": "stream",
     "text": [
      "0.0831\n",
      "0.088\n",
      "0.0997\n",
      "0.155\n",
      "0.2356\n",
      "\n",
      "0.1053\n",
      "0.0956\n",
      "0.1189\n",
      "0.1707\n",
      "0.2678\n"
     ]
    }
   ],
   "source": [
    "#데이터값 비교 : result폴더에 데이터저장.\n",
    "# 표에 사용할 데이터값.\n",
    "for rmf in best_my_result:\n",
    "    print(round(rmf,4))\n",
    "print()\n",
    "for rmf in best_org_result:\n",
    "    print(round(rmf,4))"
   ]
  },
  {
   "cell_type": "markdown",
   "id": "724a8567",
   "metadata": {},
   "source": [
    "# 데이터별 trendHMM, HMM 히스토그램"
   ]
  },
  {
   "cell_type": "code",
   "execution_count": 99,
   "id": "4a295e06",
   "metadata": {},
   "outputs": [],
   "source": [
    "#xml parsing"
   ]
  },
  {
   "cell_type": "code",
   "execution_count": null,
   "id": "1a584217",
   "metadata": {},
   "outputs": [],
   "source": []
  },
  {
   "cell_type": "code",
   "execution_count": 100,
   "id": "ca1fe929",
   "metadata": {
    "ExecuteTime": {
     "end_time": "2023-01-09T15:16:11.673260Z",
     "start_time": "2023-01-09T15:16:11.659224Z"
    }
   },
   "outputs": [],
   "source": [
    "import xml.etree.ElementTree as ET"
   ]
  },
  {
   "cell_type": "code",
   "execution_count": 101,
   "id": "ce79835c",
   "metadata": {
    "ExecuteTime": {
     "end_time": "2023-01-09T15:16:11.919290Z",
     "start_time": "2023-01-09T15:16:11.886248Z"
    }
   },
   "outputs": [],
   "source": [
    "file = \"map-matching-dataset\\\\metadata.xml\"\n",
    "tree = ET.parse(file)\n",
    "root = tree.getroot()\n"
   ]
  },
  {
   "cell_type": "code",
   "execution_count": 102,
   "id": "d9c5e888",
   "metadata": {
    "ExecuteTime": {
     "end_time": "2023-01-09T15:16:13.812905Z",
     "start_time": "2023-01-09T15:16:13.801948Z"
    }
   },
   "outputs": [
    {
     "data": {
      "text/plain": [
       "<Element 'records' at 0x0000007763DE40E0>"
      ]
     },
     "execution_count": 102,
     "metadata": {},
     "output_type": "execute_result"
    }
   ],
   "source": [
    "root"
   ]
  },
  {
   "cell_type": "code",
   "execution_count": 103,
   "id": "0a0d021a",
   "metadata": {
    "ExecuteTime": {
     "end_time": "2023-01-09T15:16:14.009883Z",
     "start_time": "2023-01-09T15:16:14.003879Z"
    }
   },
   "outputs": [],
   "source": [
    "#dataset별로 어디에 속하는지 분류 \n",
    "#root : records\n",
    "data_types = dict()\n",
    "data_types['notags'] = []\n",
    "for n,child in enumerate(root):\n",
    "    #child : record\n",
    "#     print(n)\n",
    "    tags = child.findall(\"tag\")\n",
    "#     print(len(tags))\n",
    "    if not tags:\n",
    "        data_types['notags'].append(n)\n",
    "    for tag in tags:\n",
    "        type_name = tag.attrib['value']\n",
    "\n",
    "        if type_name not in data_types:\n",
    "            data_types[type_name] = [n]\n",
    "        else:\n",
    "            data_types[type_name].append(n)"
   ]
  },
  {
   "cell_type": "code",
   "execution_count": 104,
   "id": "6aae1fde",
   "metadata": {
    "ExecuteTime": {
     "end_time": "2023-01-09T15:16:15.447594Z",
     "start_time": "2023-01-09T15:16:15.426980Z"
    }
   },
   "outputs": [
    {
     "data": {
      "text/plain": [
       "[33, 46, 54]"
      ]
     },
     "execution_count": 104,
     "metadata": {},
     "output_type": "execute_result"
    }
   ],
   "source": [
    "data_types[\"hives\"]"
   ]
  },
  {
   "cell_type": "code",
   "execution_count": 105,
   "id": "870d7d23",
   "metadata": {
    "ExecuteTime": {
     "end_time": "2023-01-09T15:16:15.887065Z",
     "start_time": "2023-01-09T15:16:15.869068Z"
    }
   },
   "outputs": [
    {
     "data": {
      "text/plain": [
       "{'notags': [3,\n",
       "  5,\n",
       "  7,\n",
       "  10,\n",
       "  20,\n",
       "  23,\n",
       "  29,\n",
       "  31,\n",
       "  35,\n",
       "  36,\n",
       "  40,\n",
       "  47,\n",
       "  50,\n",
       "  66,\n",
       "  79,\n",
       "  82,\n",
       "  83,\n",
       "  86,\n",
       "  91],\n",
       " 'gaps': [0,\n",
       "  1,\n",
       "  2,\n",
       "  4,\n",
       "  6,\n",
       "  8,\n",
       "  9,\n",
       "  11,\n",
       "  12,\n",
       "  13,\n",
       "  14,\n",
       "  17,\n",
       "  18,\n",
       "  21,\n",
       "  22,\n",
       "  24,\n",
       "  25,\n",
       "  26,\n",
       "  27,\n",
       "  28,\n",
       "  30,\n",
       "  32,\n",
       "  33,\n",
       "  34,\n",
       "  37,\n",
       "  38,\n",
       "  39,\n",
       "  41,\n",
       "  42,\n",
       "  43,\n",
       "  44,\n",
       "  46,\n",
       "  48,\n",
       "  49,\n",
       "  51,\n",
       "  52,\n",
       "  53,\n",
       "  54,\n",
       "  55,\n",
       "  56,\n",
       "  57,\n",
       "  58,\n",
       "  59,\n",
       "  60,\n",
       "  61,\n",
       "  62,\n",
       "  63,\n",
       "  64,\n",
       "  65,\n",
       "  67,\n",
       "  68,\n",
       "  69,\n",
       "  70,\n",
       "  71,\n",
       "  73,\n",
       "  74,\n",
       "  75,\n",
       "  76,\n",
       "  78,\n",
       "  80,\n",
       "  81,\n",
       "  84,\n",
       "  85,\n",
       "  87,\n",
       "  88,\n",
       "  89,\n",
       "  90,\n",
       "  93,\n",
       "  94,\n",
       "  95,\n",
       "  97,\n",
       "  98,\n",
       "  99],\n",
       " 'congruence-issues': [2,\n",
       "  8,\n",
       "  15,\n",
       "  16,\n",
       "  19,\n",
       "  33,\n",
       "  34,\n",
       "  41,\n",
       "  54,\n",
       "  56,\n",
       "  61,\n",
       "  68,\n",
       "  69,\n",
       "  74,\n",
       "  75,\n",
       "  76,\n",
       "  80,\n",
       "  81,\n",
       "  84,\n",
       "  89],\n",
       " 'u-turns': [4,\n",
       "  6,\n",
       "  8,\n",
       "  11,\n",
       "  16,\n",
       "  22,\n",
       "  26,\n",
       "  34,\n",
       "  39,\n",
       "  45,\n",
       "  56,\n",
       "  58,\n",
       "  65,\n",
       "  67,\n",
       "  70,\n",
       "  75,\n",
       "  77,\n",
       "  84,\n",
       "  85,\n",
       "  88,\n",
       "  89,\n",
       "  90,\n",
       "  94,\n",
       "  95,\n",
       "  96],\n",
       " 'loops': [8,\n",
       "  14,\n",
       "  17,\n",
       "  18,\n",
       "  22,\n",
       "  26,\n",
       "  32,\n",
       "  42,\n",
       "  46,\n",
       "  48,\n",
       "  56,\n",
       "  63,\n",
       "  67,\n",
       "  69,\n",
       "  72,\n",
       "  73,\n",
       "  75,\n",
       "  77,\n",
       "  81,\n",
       "  85,\n",
       "  90,\n",
       "  92,\n",
       "  94,\n",
       "  95],\n",
       " 'hives': [33, 46, 54]}"
      ]
     },
     "execution_count": 105,
     "metadata": {},
     "output_type": "execute_result"
    }
   ],
   "source": [
    "# dataset별로 어디에 속하는지 분류\n",
    "data_types"
   ]
  },
  {
   "cell_type": "code",
   "execution_count": 106,
   "id": "92ac7b11",
   "metadata": {
    "ExecuteTime": {
     "end_time": "2023-01-09T15:16:18.684997Z",
     "start_time": "2023-01-09T15:16:18.676961Z"
    }
   },
   "outputs": [
    {
     "name": "stdout",
     "output_type": "stream",
     "text": [
      "notags : 19\n",
      "gaps : 73\n",
      "congruence-issues : 20\n",
      "u-turns : 25\n",
      "loops : 24\n",
      "hives : 3\n"
     ]
    }
   ],
   "source": [
    "#아니 왜 하나씩 부족하지??\n",
    "# gaps : 73\n",
    "# u-turns : 25\n",
    "# loops: 24\n",
    "# hives : 3\n",
    "data_nums = []\n",
    "for key in data_types:\n",
    "    data_nums.append(len(data_types[key]))\n",
    "    print(f\"{key} : {len(data_types[key])}\")"
   ]
  },
  {
   "cell_type": "code",
   "execution_count": 107,
   "id": "fdcf62d7",
   "metadata": {
    "ExecuteTime": {
     "end_time": "2023-01-09T15:16:20.531993Z",
     "start_time": "2023-01-09T15:16:20.516958Z"
    }
   },
   "outputs": [
    {
     "data": {
      "text/plain": [
       "array([ 7.77007106,  7.96683346,  9.38143952, 14.21989225, 21.30900248])"
      ]
     },
     "execution_count": 107,
     "metadata": {},
     "output_type": "execute_result"
    }
   ],
   "source": [
    "sum([all_datas[4][tid] for tid in data_types[\"gaps\"]])"
   ]
  },
  {
   "cell_type": "code",
   "execution_count": 108,
   "id": "465809f1",
   "metadata": {
    "ExecuteTime": {
     "end_time": "2023-01-09T15:16:20.852718Z",
     "start_time": "2023-01-09T15:16:20.830334Z"
    }
   },
   "outputs": [
    {
     "ename": "NameError",
     "evalue": "name 'res' is not defined",
     "output_type": "error",
     "traceback": [
      "\u001b[1;31m---------------------------------------------------------------------------\u001b[0m",
      "\u001b[1;31mNameError\u001b[0m                                 Traceback (most recent call last)",
      "\u001b[1;32m~\\AppData\\Local\\Temp\\1/ipykernel_17176/1158820258.py\u001b[0m in \u001b[0;36m<module>\u001b[1;34m\u001b[0m\n\u001b[1;32m----> 1\u001b[1;33m \u001b[0mres\u001b[0m\u001b[1;33m\u001b[0m\u001b[1;33m\u001b[0m\u001b[0m\n\u001b[0m",
      "\u001b[1;31mNameError\u001b[0m: name 'res' is not defined"
     ]
    }
   ],
   "source": [
    "res"
   ]
  },
  {
   "cell_type": "code",
   "execution_count": 109,
   "id": "3a411bc8",
   "metadata": {
    "ExecuteTime": {
     "end_time": "2023-01-09T15:16:22.423697Z",
     "start_time": "2023-01-09T15:16:22.407735Z"
    }
   },
   "outputs": [],
   "source": [
    "\n",
    "result_my_data_types = {}\n",
    "result_org_data_types = {}\n",
    "\n",
    "for key in data_types:\n",
    "    if key not in result_my_data_types:\n",
    "        result_org_data_types[key] = []\n",
    "        result_my_data_types[key] = []\n",
    "        \n",
    "for types in data_types:\n",
    "    for i,index in enumerate(sampling_w_index):\n",
    "        #10s : index\n",
    "        result_my = sum([all_datas[index][tid][i] for tid in data_types[types]]) / len(data_types[types])\n",
    "        \n",
    "        result_my_data_types[types].append(result_my)\n",
    "        \n",
    "        \n",
    "        result_org = sum(org_data[tid][i] for tid in data_types[types]) / len(data_types[types])\n",
    "        result_org_data_types[types].append(result_org)"
   ]
  },
  {
   "cell_type": "code",
   "execution_count": 110,
   "id": "5d2ff5b5",
   "metadata": {
    "ExecuteTime": {
     "end_time": "2023-01-09T15:16:23.911007Z",
     "start_time": "2023-01-09T15:16:23.898007Z"
    }
   },
   "outputs": [
    {
     "data": {
      "text/plain": [
       "{'notags': [0.0264778097410894,\n",
       "  0.02698552934376241,\n",
       "  0.03293303724742534,\n",
       "  0.06795217732210636,\n",
       "  0.1195971008689257],\n",
       " 'gaps': [0.10035290848175417,\n",
       "  0.10676103542269572,\n",
       "  0.12021806700207288,\n",
       "  0.1831293887713961,\n",
       "  0.26586813605218246],\n",
       " 'congruence-issues': [0.25645812194068907,\n",
       "  0.2735494836496507,\n",
       "  0.27435776393078776,\n",
       "  0.31211770393257726,\n",
       "  0.4089666421165984],\n",
       " 'u-turns': [0.21980511944404021,\n",
       "  0.2199949625158412,\n",
       "  0.24200076082038424,\n",
       "  0.38669818021356767,\n",
       "  0.4071268463002977],\n",
       " 'loops': [0.23236583671262745,\n",
       "  0.23841855080355964,\n",
       "  0.2633953806675088,\n",
       "  0.31720976603293255,\n",
       "  0.43437006063427736],\n",
       " 'hives': [0.033338584668661735,\n",
       "  0.11238789482947477,\n",
       "  0.1136941438974781,\n",
       "  0.13148046557549645,\n",
       "  0.27610286321650845]}"
      ]
     },
     "execution_count": 110,
     "metadata": {},
     "output_type": "execute_result"
    }
   ],
   "source": [
    "result_my_data_types"
   ]
  },
  {
   "cell_type": "code",
   "execution_count": 111,
   "id": "ffcf1851",
   "metadata": {
    "ExecuteTime": {
     "end_time": "2023-01-09T15:16:26.400959Z",
     "start_time": "2023-01-09T15:16:26.376913Z"
    }
   },
   "outputs": [
    {
     "data": {
      "text/plain": [
       "{'notags': [0.03417898470024715,\n",
       "  0.03823078784248206,\n",
       "  0.037356630317484464,\n",
       "  0.08258129214842277,\n",
       "  0.14107761530573495],\n",
       " 'gaps': [0.12855565290425894,\n",
       "  0.11319021847908757,\n",
       "  0.14579386471708722,\n",
       "  0.20110510858551356,\n",
       "  0.30625078216001533],\n",
       " 'congruence-issues': [0.26485382448038963,\n",
       "  0.27976393403754846,\n",
       "  0.2737964479863808,\n",
       "  0.34717629937645417,\n",
       "  0.5184949005934621],\n",
       " 'u-turns': [0.291026662557018,\n",
       "  0.2305600617208084,\n",
       "  0.23997604015567614,\n",
       "  0.3511425882503235,\n",
       "  0.4378473864941161],\n",
       " 'loops': [0.3077308512081012,\n",
       "  0.24949088145947562,\n",
       "  0.33147494407590034,\n",
       "  0.28144846876787294,\n",
       "  0.5260392808828109],\n",
       " 'hives': [0.0400788413394483,\n",
       "  0.119498918544844,\n",
       "  0.7219363352114182,\n",
       "  0.14898481277533399,\n",
       "  0.23590234663322998]}"
      ]
     },
     "execution_count": 111,
     "metadata": {},
     "output_type": "execute_result"
    }
   ],
   "source": [
    "result_org_data_types"
   ]
  },
  {
   "cell_type": "code",
   "execution_count": 112,
   "id": "f9ca849d",
   "metadata": {
    "ExecuteTime": {
     "end_time": "2023-01-09T15:16:30.656899Z",
     "start_time": "2023-01-09T15:16:30.645899Z"
    }
   },
   "outputs": [
    {
     "data": {
      "text/plain": [
       "<Figure size 432x288 with 0 Axes>"
      ]
     },
     "metadata": {},
     "output_type": "display_data"
    }
   ],
   "source": [
    "# figure 공부해보기 : \n",
    "\n",
    "fig = plt.figure()"
   ]
  },
  {
   "cell_type": "code",
   "execution_count": 113,
   "id": "a26820e4",
   "metadata": {
    "ExecuteTime": {
     "end_time": "2023-01-09T15:16:32.110070Z",
     "start_time": "2023-01-09T15:16:32.094303Z"
    }
   },
   "outputs": [
    {
     "data": {
      "text/plain": [
       "{'notags': [0.0264778097410894,\n",
       "  0.02698552934376241,\n",
       "  0.03293303724742534,\n",
       "  0.06795217732210636,\n",
       "  0.1195971008689257],\n",
       " 'gaps': [0.10035290848175417,\n",
       "  0.10676103542269572,\n",
       "  0.12021806700207288,\n",
       "  0.1831293887713961,\n",
       "  0.26586813605218246],\n",
       " 'congruence-issues': [0.25645812194068907,\n",
       "  0.2735494836496507,\n",
       "  0.27435776393078776,\n",
       "  0.31211770393257726,\n",
       "  0.4089666421165984],\n",
       " 'u-turns': [0.21980511944404021,\n",
       "  0.2199949625158412,\n",
       "  0.24200076082038424,\n",
       "  0.38669818021356767,\n",
       "  0.4071268463002977],\n",
       " 'loops': [0.23236583671262745,\n",
       "  0.23841855080355964,\n",
       "  0.2633953806675088,\n",
       "  0.31720976603293255,\n",
       "  0.43437006063427736],\n",
       " 'hives': [0.033338584668661735,\n",
       "  0.11238789482947477,\n",
       "  0.1136941438974781,\n",
       "  0.13148046557549645,\n",
       "  0.27610286321650845]}"
      ]
     },
     "execution_count": 113,
     "metadata": {},
     "output_type": "execute_result"
    }
   ],
   "source": [
    "result_my_data_types"
   ]
  },
  {
   "cell_type": "code",
   "execution_count": 114,
   "id": "f2fd8fd3",
   "metadata": {
    "ExecuteTime": {
     "end_time": "2023-01-09T15:16:34.467347Z",
     "start_time": "2023-01-09T15:16:34.454351Z"
    }
   },
   "outputs": [
    {
     "data": {
      "text/plain": [
       "{'notags': [0.03417898470024715,\n",
       "  0.03823078784248206,\n",
       "  0.037356630317484464,\n",
       "  0.08258129214842277,\n",
       "  0.14107761530573495],\n",
       " 'gaps': [0.12855565290425894,\n",
       "  0.11319021847908757,\n",
       "  0.14579386471708722,\n",
       "  0.20110510858551356,\n",
       "  0.30625078216001533],\n",
       " 'congruence-issues': [0.26485382448038963,\n",
       "  0.27976393403754846,\n",
       "  0.2737964479863808,\n",
       "  0.34717629937645417,\n",
       "  0.5184949005934621],\n",
       " 'u-turns': [0.291026662557018,\n",
       "  0.2305600617208084,\n",
       "  0.23997604015567614,\n",
       "  0.3511425882503235,\n",
       "  0.4378473864941161],\n",
       " 'loops': [0.3077308512081012,\n",
       "  0.24949088145947562,\n",
       "  0.33147494407590034,\n",
       "  0.28144846876787294,\n",
       "  0.5260392808828109],\n",
       " 'hives': [0.0400788413394483,\n",
       "  0.119498918544844,\n",
       "  0.7219363352114182,\n",
       "  0.14898481277533399,\n",
       "  0.23590234663322998]}"
      ]
     },
     "execution_count": 114,
     "metadata": {},
     "output_type": "execute_result"
    }
   ],
   "source": [
    "result_org_data_types"
   ]
  },
  {
   "cell_type": "code",
   "execution_count": 115,
   "id": "a9406d69",
   "metadata": {
    "ExecuteTime": {
     "end_time": "2023-01-07T02:59:49.087989Z",
     "start_time": "2023-01-07T02:59:49.069451Z"
    }
   },
   "outputs": [
    {
     "data": {
      "text/plain": [
       "['G1', 'G2', 'G3', 'G4', 'G5']"
      ]
     },
     "execution_count": 115,
     "metadata": {},
     "output_type": "execute_result"
    }
   ],
   "source": [
    "labels"
   ]
  },
  {
   "cell_type": "code",
   "execution_count": 116,
   "id": "276af10a",
   "metadata": {
    "ExecuteTime": {
     "end_time": "2023-01-09T15:16:40.211857Z",
     "start_time": "2023-01-09T15:16:39.034316Z"
    }
   },
   "outputs": [
    {
     "data": {
      "image/png": "[encoded data removed]",
      "text/plain": [
       "<Figure size 576x432 with 1 Axes>"
      ]
     },
     "metadata": {},
     "output_type": "display_data"
    },
    {
     "data": {
      "image/png": "[encoded data removed]",
      "text/plain": [
       "<Figure size 576x432 with 1 Axes>"
      ]
     },
     "metadata": {},
     "output_type": "display_data"
    },
    {
     "data": {
      "image/png": "[encoded data removed]",
      "text/plain": [
       "<Figure size 576x432 with 1 Axes>"
      ]
     },
     "metadata": {},
     "output_type": "display_data"
    },
    {
     "data": {
      "image/png": "[encoded data removed]",
      "text/plain": [
       "<Figure size 576x432 with 1 Axes>"
      ]
     },
     "metadata": {},
     "output_type": "display_data"
    },
    {
     "data": {
      "image/png": "[encoded data removed]",
      "text/plain": [
       "<Figure size 576x432 with 1 Axes>"
      ]
     },
     "metadata": {},
     "output_type": "display_data"
    },
    {
     "data": {
      "image/png": "[encoded data removed]",
      "text/plain": [
       "<Figure size 576x432 with 1 Axes>"
      ]
     },
     "metadata": {},
     "output_type": "display_data"
    }
   ],
   "source": [
    "name = [\"a\",\"b\",\"c\",\"d\",\"e\",\"f\"]    \n",
    "\n",
    "for i in range(len(name)):\n",
    "    plt.figure(figsize=(8, 6),facecolor=\"white\")\n",
    "    plt.rc('font',size=13)\n",
    "    labels = list(data_types.keys())\n",
    "    heights_my = result_my_data_types[labels[i]]\n",
    "    heights_org = result_org_data_types[labels[i]]\n",
    "    width = 0.35\n",
    "    x = np.arange(5)\n",
    "    plt.bar(x - width/2,heights_my, width, label=\"trendHMM\")\n",
    "    plt.bar(x + width/2,heights_org, width, label=\"HMM\")\n",
    "    plt.xticks(x,samplings)\n",
    "    plt.xlabel(\"Sampling Interval(s)\")\n",
    "    plt.ylabel(\"RMF\")\n",
    "    plt.legend()\n",
    "\n",
    "    plt.savefig(f\"fig6{labels[i]}\")\n"
   ]
  },
  {
   "cell_type": "code",
   "execution_count": 117,
   "id": "6cb160bf",
   "metadata": {
    "ExecuteTime": {
     "end_time": "2022-08-26T17:56:56.733069Z",
     "start_time": "2022-08-26T17:56:56.724094Z"
    }
   },
   "outputs": [
    {
     "data": {
      "text/plain": [
       "['notags', 'gaps', 'congruence-issues', 'u-turns', 'loops', 'hives']"
      ]
     },
     "execution_count": 117,
     "metadata": {},
     "output_type": "execute_result"
    }
   ],
   "source": [
    "labels"
   ]
  },
  {
   "cell_type": "code",
   "execution_count": 118,
   "id": "f3801a51",
   "metadata": {
    "ExecuteTime": {
     "end_time": "2022-08-26T18:11:40.996831Z",
     "start_time": "2022-08-26T18:11:40.683670Z"
    }
   },
   "outputs": [
    {
     "name": "stdout",
     "output_type": "stream",
     "text": [
      "[0.0264778097410894, 0.10035290848175417, 0.25645812194068907, 0.21980511944404021, 0.23236583671262745, 0.033338584668661735]\n"
     ]
    },
    {
     "data": {
      "text/plain": [
       "([<matplotlib.axis.XTick at 0x775fc47580>,\n",
       "  <matplotlib.axis.XTick at 0x775fc47fd0>,\n",
       "  <matplotlib.axis.XTick at 0x775fcd2df0>,\n",
       "  <matplotlib.axis.XTick at 0x775e658700>,\n",
       "  <matplotlib.axis.XTick at 0x775e658df0>,\n",
       "  <matplotlib.axis.XTick at 0x77624814f0>],\n",
       " [Text(0, 0, 'notags'),\n",
       "  Text(1, 0, 'gaps'),\n",
       "  Text(2, 0, 'congruence-issues'),\n",
       "  Text(3, 0, 'u-turns'),\n",
       "  Text(4, 0, 'loops'),\n",
       "  Text(5, 0, 'hives')])"
      ]
     },
     "execution_count": 118,
     "metadata": {},
     "output_type": "execute_result"
    },
    {
     "data": {
      "image/png": "[encoded data removed]",
      "text/plain": [
       "<Figure size 432x288 with 1 Axes>"
      ]
     },
     "metadata": {
      "needs_background": "light"
     },
     "output_type": "display_data"
    }
   ],
   "source": [
    "# 0 번째 로 그림그리기\n",
    "\n",
    "\n",
    "\n",
    "\n",
    "ts = 0\n",
    "labels = list(data_types.keys())\n",
    "heights_my = [result_my_data_types[key][ts] for key in labels]\n",
    "heights_org = [result_org_data_types[key][ts] for key in labels]\n",
    "print(heights_my)\n",
    "width = 0.35\n",
    "x = np.arange(6)\n",
    "\n",
    "plt.bar(x - width/2,heights_my, width, label=\"trendHM\")\n",
    "plt.bar(x + width/2,heights_org, width, label=\"HMM\")\n",
    "\n",
    "plt.xticks(x,labels)\n"
   ]
  },
  {
   "cell_type": "code",
   "execution_count": null,
   "id": "9e9ef96a",
   "metadata": {
    "ExecuteTime": {
     "end_time": "2022-08-26T16:02:56.158074Z",
     "start_time": "2022-08-26T16:02:56.150098Z"
    }
   },
   "outputs": [],
   "source": []
  },
  {
   "cell_type": "code",
   "execution_count": 119,
   "id": "22218034",
   "metadata": {
    "ExecuteTime": {
     "end_time": "2022-08-26T16:01:27.567840Z",
     "start_time": "2022-08-26T16:01:27.351424Z"
    }
   },
   "outputs": [
    {
     "data": {
      "image/png": "[encoded data removed]",
      "text/plain": [
       "<Figure size 432x288 with 1 Axes>"
      ]
     },
     "metadata": {
      "needs_background": "light"
     },
     "output_type": "display_data"
    }
   ],
   "source": [
    "x = np.arange(5)\n",
    "y1 = [34, 56, 12, 89, 67]\n",
    "y2 = [12, 56, 78, 45, 90]\n",
    "y3 = [14, 23, 45, 25, 89]\n",
    "width = 0.2\n",
    "  \n",
    "# plot data in grouped manner of bar type\n",
    "plt.bar(x-0.2, y1, width, color='cyan')\n",
    "plt.bar(x, y2, width, color='orange')\n",
    "plt.bar(x+0.2, y3, width, color='green')\n",
    "plt.xticks(x, ['Team A', 'Team B', 'Team C', 'Team D', 'Team E'])\n",
    "plt.xlabel(\"Teams\")\n",
    "plt.ylabel(\"Scores\")\n",
    "plt.legend([\"Round 1\", \"Round 2\", \"Round 3\"])\n",
    "plt.show()"
   ]
  },
  {
   "cell_type": "code",
   "execution_count": 120,
   "id": "0b97cea2",
   "metadata": {
    "ExecuteTime": {
     "end_time": "2022-08-26T15:54:48.834537Z",
     "start_time": "2022-08-26T15:54:48.432611Z"
    }
   },
   "outputs": [
    {
     "data": {
      "image/png": "[encoded data removed]",
      "text/plain": [
       "<Figure size 432x288 with 1 Axes>"
      ]
     },
     "metadata": {
      "needs_background": "light"
     },
     "output_type": "display_data"
    }
   ],
   "source": [
    "import matplotlib.pyplot as plt\n",
    "import numpy as np\n",
    "\n",
    "\n",
    "labels = ['G1', 'G2', 'G3', 'G4', 'G5']\n",
    "men_means = [20, 34, 30, 35, 27]\n",
    "women_means = [25, 32, 34, 20, 25]\n",
    "\n",
    "x = np.arange(len(labels))  # the label locations\n",
    "width = 0.35  # the width of the bars\n",
    "\n",
    "fig, ax = plt.subplots()\n",
    "rects1 = ax.bar(x - width/2, men_means, width, label='Men')\n",
    "rects2 = ax.bar(x + width/2, women_means, width, label='Women')\n",
    "\n",
    "# Add some text for labels, title and custom x-axis tick labels, etc.\n",
    "ax.set_ylabel('Scores')\n",
    "ax.set_title('Scores by group and gender')\n",
    "# ax.set_xticks(x, labels)\n",
    "ax.legend()\n",
    "\n",
    "ax.bar_label(rects1, padding=3)\n",
    "ax.bar_label(rects2, padding=3)\n",
    "\n",
    "fig.tight_layout()\n",
    "\n",
    "plt.show()"
   ]
  },
  {
   "cell_type": "code",
   "execution_count": null,
   "id": "a3d3e32e",
   "metadata": {},
   "outputs": [],
   "source": []
  },
  {
   "cell_type": "code",
   "execution_count": null,
   "id": "92665edf",
   "metadata": {},
   "outputs": [],
   "source": []
  },
  {
   "cell_type": "code",
   "execution_count": null,
   "id": "89472193",
   "metadata": {},
   "outputs": [],
   "source": []
  }
 ],
 "metadata": {
  "kernelspec": {
   "display_name": "Python 3 (ipykernel)",
   "language": "python",
   "name": "python3"
  },
  "language_info": {
   "codemirror_mode": {
    "name": "ipython",
    "version": 3
   },
   "file_extension": ".py",
   "mimetype": "text/x-python",
   "name": "python",
   "nbconvert_exporter": "python",
   "pygments_lexer": "ipython3",
   "version": "3.9.7"
  },
  "toc": {
   "base_numbering": 1,
   "nav_menu": {},
   "number_sections": true,
   "sideBar": true,
   "skip_h1_title": false,
   "title_cell": "Table of Contents",
   "title_sidebar": "Contents",
   "toc_cell": false,
   "toc_position": {},
   "toc_section_display": true,
   "toc_window_display": false
  },
  "varInspector": {
   "cols": {
    "lenName": 16,
    "lenType": 16,
    "lenVar": 40
   },
   "kernels_config": {
    "python": {
     "delete_cmd_postfix": "",
     "delete_cmd_prefix": "del ",
     "library": "var_list.py",
     "varRefreshCmd": "print(var_dic_list())"
    },
    "r": {
     "delete_cmd_postfix": ") ",
     "delete_cmd_prefix": "rm(",
     "library": "var_list.r",
     "varRefreshCmd": "cat(var_dic_list()) "
    }
   },
   "types_to_exclude": [
    "module",
    "function",
    "builtin_function_or_method",
    "instance",
    "_Feature"
   ],
   "window_display": false
  }
 },
 "nbformat": 4,
 "nbformat_minor": 5
}
